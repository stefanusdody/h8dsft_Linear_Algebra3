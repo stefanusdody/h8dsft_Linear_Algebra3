{
 "cells": [
  {
   "cell_type": "code",
   "execution_count": 1,
   "id": "c2c7bde4",
   "metadata": {},
   "outputs": [],
   "source": [
    "# import libraries\n",
    "import numpy as np\n",
    "import matplotlib.pyplot as plt\n",
    "import seaborn as sns"
   ]
  },
  {
   "cell_type": "markdown",
   "id": "57c495a3",
   "metadata": {},
   "source": [
    "Apakah $\n",
    "\\begin{bmatrix}\n",
    "    1\\\\\\\\\n",
    "    3\n",
    "\\end{bmatrix}\n",
    "$ adalah eigenvector dari $\n",
    "\\begin{bmatrix}\n",
    "    1 & -1\\\\\\\\\n",
    "    6 & -4\n",
    "\\end{bmatrix}\n",
    "$ ? jika iya, berapakah eigenvalue-nya?"
   ]
  },
  {
   "cell_type": "code",
   "execution_count": 2,
   "id": "60a77be4",
   "metadata": {},
   "outputs": [
    {
     "data": {
      "text/plain": [
       "array([[ 1, -1],\n",
       "       [ 6, -4]])"
      ]
     },
     "execution_count": 2,
     "metadata": {},
     "output_type": "execute_result"
    }
   ],
   "source": [
    "A = np.array([[1,-1],[6,-4]])\n",
    "A"
   ]
  },
  {
   "cell_type": "code",
   "execution_count": 3,
   "id": "eb7ac823",
   "metadata": {},
   "outputs": [
    {
     "data": {
      "text/plain": [
       "array([[1],\n",
       "       [3]])"
      ]
     },
     "execution_count": 3,
     "metadata": {},
     "output_type": "execute_result"
    }
   ],
   "source": [
    "v = np.array([[1],[3]])\n",
    "v"
   ]
  },
  {
   "cell_type": "code",
   "execution_count": 4,
   "id": "6685de32",
   "metadata": {},
   "outputs": [
    {
     "data": {
      "text/plain": [
       "array([[-2],\n",
       "       [-6]])"
      ]
     },
     "execution_count": 4,
     "metadata": {},
     "output_type": "execute_result"
    }
   ],
   "source": [
    "Av = A.dot(v)\n",
    "Av"
   ]
  },
  {
   "cell_type": "markdown",
   "id": "886d2658",
   "metadata": {},
   "source": [
    "Jadi **eigenvalues** yang sesuai adalah 𝜆 = -2 "
   ]
  },
  {
   "cell_type": "code",
   "execution_count": 5,
   "id": "611e0eae",
   "metadata": {},
   "outputs": [
    {
     "data": {
      "text/plain": [
       "(array([-1., -2.]),\n",
       " array([[0.4472136 , 0.31622777],\n",
       "        [0.89442719, 0.9486833 ]]))"
      ]
     },
     "execution_count": 5,
     "metadata": {},
     "output_type": "execute_result"
    }
   ],
   "source": [
    "# mencari eigenvalue dengan python\n",
    "np.linalg.eig(A)"
   ]
  },
  {
   "cell_type": "code",
   "execution_count": null,
   "id": "15eb039c",
   "metadata": {},
   "outputs": [],
   "source": []
  }
 ],
 "metadata": {
  "kernelspec": {
   "display_name": "Python 3",
   "language": "python",
   "name": "python3"
  },
  "language_info": {
   "codemirror_mode": {
    "name": "ipython",
    "version": 3
   },
   "file_extension": ".py",
   "mimetype": "text/x-python",
   "name": "python",
   "nbconvert_exporter": "python",
   "pygments_lexer": "ipython3",
   "version": "3.8.5"
  }
 },
 "nbformat": 4,
 "nbformat_minor": 5
}
